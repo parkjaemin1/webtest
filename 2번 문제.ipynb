{
 "cells": [
  {
   "cell_type": "markdown",
   "id": "1fcf4065",
   "metadata": {},
   "source": [
    "# pandas 형태로 정의된 데이터를 출력한후 t-test를 이용하여 결과를 출력하는 코드를 작성하였음."
   ]
  },
  {
   "cell_type": "code",
   "execution_count": 68,
   "id": "3bee9121",
   "metadata": {},
   "outputs": [
    {
     "name": "stdout",
     "output_type": "stream",
     "text": [
      "The t-statistic and p-value assuming equal variances is 1.087 and 0.284.\n",
      "The t-statistic and p-value not assuming equal variances is 1.109 and 0.275\n"
     ]
    }
   ],
   "source": [
    "\n",
    "# Data Source : http://www.statiz.co.kr/\n",
    "import pandas as pd\n",
    "from scipy import stats\n",
    "\n",
    "picher_file_path = '../data/picher_stats_2017.csv' #투수 선수들의 기록을 담고 있는 코드\n",
    "batter_file_path = '../data/batter_stats_2017.csv' #타자 선수들의 기록을 담고 있는 코드\n",
    "picher = pd.read_csv(picher_file_path)\n",
    "batter = pd.read_csv(batter_file_path)\n",
    "#statiz.co.kr에서 제공하는 2017년 한국 프로야구 데이터를 불러오기 위한 코드입니다\n",
    "\n",
    "hanhwa_salary = picher[picher['팀명']=='한화']['연봉(2017)'] #팀명'이 '한화'인 행의 '연봉(2017)' 열을 추출\n",
    "sk_salary = picher[picher['팀명']=='SK']['연봉(2017)'] #팀명'이 'SK'인 행의 '연봉(2017)' 열을을 추출\n",
    "\n",
    "tTestResult = stats.ttest_ind(hanhwa_salary, sk_salary)\n",
    "tTestResultDiffVar = stats.ttest_ind(hanhwa_salary, sk_salary, equal_var=False)\n",
    "#2017년 프로야구 데이터를 활용하여 '한화'와 'SK' 팀의 연봉 분포에 대한 t-test를 수행하는 것입니다.\n",
    "\n",
    "print(\"The t-statistic and p-value assuming equal variances is %.3f and %.3f.\" % tTestResult)\n",
    "print(\"The t-statistic and p-value not assuming equal variances is %.3f and %.3f\" % tTestResultDiffVar)\n",
    "#두 개의 변수 (한화의 2017 연봉, SK의 2017 연봉) 간의 t-test 결과를 출력합니다."
   ]
  },
  {
   "cell_type": "code",
   "execution_count": null,
   "id": "f9a98b28",
   "metadata": {},
   "outputs": [],
   "source": []
  }
 ],
 "metadata": {
  "kernelspec": {
   "display_name": "Python 3 (ipykernel)",
   "language": "python",
   "name": "python3"
  },
  "language_info": {
   "codemirror_mode": {
    "name": "ipython",
    "version": 3
   },
   "file_extension": ".py",
   "mimetype": "text/x-python",
   "name": "python",
   "nbconvert_exporter": "python",
   "pygments_lexer": "ipython3",
   "version": "3.8.16"
  }
 },
 "nbformat": 4,
 "nbformat_minor": 5
}
