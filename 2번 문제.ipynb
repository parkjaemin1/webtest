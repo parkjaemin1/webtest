{
 "cells": [
  {
   "cell_type": "markdown",
   "id": "6b6b4d60",
   "metadata": {},
   "source": [
    "# 두 피처간의 상관계수 구하여 맥주 소비량과 와인 소비량 간의 상관관계를 출력하는 코드를 작성하였음."
   ]
  },
  {
   "cell_type": "code",
   "execution_count": 1,
   "id": "ba92cdfe",
   "metadata": {},
   "outputs": [],
   "source": [
    "# -*- coding: utf-8 -*-\n",
    "\n",
    "import pandas as pd\n",
    "import numpy as np\n",
    "import matplotlib.pyplot as plt\n",
    "\n",
    "file_path = '../data/drinks.csv'\n",
    "drinks = pd.read_csv(file_path) # read_csv 함수로 데이터를 Dataframe 형태로 불러옵니다."
   ]
  },
  {
   "cell_type": "code",
   "execution_count": 21,
   "id": "49960aa8",
   "metadata": {},
   "outputs": [
    {
     "name": "stdout",
     "output_type": "stream",
     "text": [
      "맥주와 와인의 상관관계(피어슨 상관계수): 0.2977739788485701\n"
     ]
    }
   ],
   "source": [
    "europe = drinks.loc[drinks['continent']=='EU']\n",
    "#drinks 데이터프레임에서 대륙이 'EU'인 국가들을 선택하여 새로운 데이터프레임 europe를 만든다는 코드입니다.\n",
    "correlation = europe['beer_servings'].corr(europe['wine_servings'])\n",
    "#europe 데이터프레임에서 맥주 소비량과 와인 소비량 간의 상관 관계를 계산합니다.\n",
    "print(f\"맥주와 와인의 상관관계(피어슨 상관계수): {correlation}\")"
   ]
  }
 ],
 "metadata": {
  "kernelspec": {
   "display_name": "Python 3 (ipykernel)",
   "language": "python",
   "name": "python3"
  },
  "language_info": {
   "codemirror_mode": {
    "name": "ipython",
    "version": 3
   },
   "file_extension": ".py",
   "mimetype": "text/x-python",
   "name": "python",
   "nbconvert_exporter": "python",
   "pygments_lexer": "ipython3",
   "version": "3.8.16"
  }
 },
 "nbformat": 4,
 "nbformat_minor": 5
}
