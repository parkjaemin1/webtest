import pandas as pd

# read_csv 함수로 데이터를 Dataframe 형태로 불러옵니다.
file_path = '../data/chipotle.tsv'
chipo = pd.read_csv(file_path, sep = '\t')
chipo['item_price'] = chipo['item_price'].replace('[\$,]','',regex=True).astype(float)
#chipo' 데이터프레임을 'order_id' 열로 그룹화하고, 같은 'order_id'를 가진 행들의 'item_price' 열 값을 합산하여 새로운 데이터프레임을 생성합니다.
order_item_totals = chipo.groupby('item_name')['item_price'].sum().sort_values(ascending=False)
#주문 데이터에서 각 메뉴별 총 매출을 계산하고, 매출이 높은 순서대로 정렬한 것입니다.
print(order_item_totals.head(10))
#상위 10개의 품목을 출력한 값입니다.를 추가함"
