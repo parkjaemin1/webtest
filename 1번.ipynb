{
 "cells": [
  {
   "cell_type": "markdown",
   "id": "570afe64",
   "metadata": {},
   "source": [
    "# [Chipotle 데이터셋의 행과 열, 데이터]를 사용하여 상위 10개 품목을 출력하는 코드를 작성하였음"
   ]
  },
  {
   "cell_type": "code",
   "execution_count": 1,
   "id": "d69f2dfc",
   "metadata": {},
   "outputs": [
    {
     "name": "stdout",
     "output_type": "stream",
     "text": [
      "item_name\n",
      "Chicken Bowl           7342.73\n",
      "Chicken Burrito        5575.82\n",
      "Steak Burrito          3851.43\n",
      "Steak Bowl             2260.19\n",
      "Chips and Guacamole    2201.04\n",
      "Chicken Salad Bowl     1228.75\n",
      "Chicken Soft Tacos     1108.09\n",
      "Veggie Burrito          934.77\n",
      "Barbacoa Burrito        894.75\n",
      "Veggie Bowl             867.99\n",
      "Name: item_price, dtype: float64\n"
     ]
    }
   ],
   "source": [
    "import pandas as pd\n",
    "\n",
    "# read_csv 함수로 데이터를 Dataframe 형태로 불러옵니다.\n",
    "file_path = '../data/chipotle.tsv'\n",
    "chipo = pd.read_csv(file_path, sep = '\\t')\n",
    "chipo['item_price'] = chipo['item_price'].replace('[\\$,]','',regex=True).astype(float)\n",
    "#chipo' 데이터프레임을 'order_id' 열로 그룹화하고, 같은 'order_id'를 가진 행들의 'item_price' 열 값을 합산하여 새로운 데이터프레임을 생성합니다.\n",
    "order_item_totals = chipo.groupby('item_name')['item_price'].sum().sort_values(ascending=False)\n",
    "#주문 데이터에서 각 메뉴별 총 매출을 계산하고, 매출이 높은 순서대로 정렬한 것입니다.\n",
    "print(order_item_totals.head(10))\n",
    "#상위 10개의 품목을 출력한 값입니다."
   ]
  },
  {
   "cell_type": "code",
   "execution_count": null,
   "id": "c0067f5f",
   "metadata": {},
   "outputs": [],
   "source": []
  }
 ],
 "metadata": {
  "kernelspec": {
   "display_name": "Python 3 (ipykernel)",
   "language": "python",
   "name": "python3"
  },
  "language_info": {
   "codemirror_mode": {
    "name": "ipython",
    "version": 3
   },
   "file_extension": ".py",
   "mimetype": "text/x-python",
   "name": "python",
   "nbconvert_exporter": "python",
   "pygments_lexer": "ipython3",
   "version": "3.8.16"
  }
 },
 "nbformat": 4,
 "nbformat_minor": 5
}
